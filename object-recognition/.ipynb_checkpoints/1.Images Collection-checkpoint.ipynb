{
 "cells": [
  {
   "cell_type": "code",
   "execution_count": 1,
   "id": "e4457315",
   "metadata": {},
   "outputs": [],
   "source": [
    "import cv2\n",
    "#framework to get uniques identifiers for the images \n",
    "import uuid \n",
    "import os \n",
    "import time "
   ]
  },
  {
   "cell_type": "markdown",
   "id": "ade35e36",
   "metadata": {},
   "source": [
    "## Création des dossiers de stockage des images"
   ]
  },
  {
   "cell_type": "code",
   "execution_count": 2,
   "id": "2056bd2a",
   "metadata": {},
   "outputs": [],
   "source": [
    "labels = [\"thumbsup\",\"thumbsdown\",\"thankyou\",\"livelong\"]\n",
    "numbers_img = 5 "
   ]
  },
  {
   "cell_type": "code",
   "execution_count": 3,
   "id": "09ba0281",
   "metadata": {},
   "outputs": [
    {
     "data": {
      "text/plain": [
       "'Tensorflow/workspace/images'"
      ]
     },
     "execution_count": 3,
     "metadata": {},
     "output_type": "execute_result"
    }
   ],
   "source": [
    "IMAGES_PATH = os.path.join('Tensorflow','workspace','images'  )\n",
    "IMAGES_PATH"
   ]
  },
  {
   "cell_type": "code",
   "execution_count": 4,
   "id": "a7328b27",
   "metadata": {},
   "outputs": [
    {
     "data": {
      "text/plain": [
       "'posix'"
      ]
     },
     "execution_count": 4,
     "metadata": {},
     "output_type": "execute_result"
    }
   ],
   "source": [
    "os.name"
   ]
  },
  {
   "cell_type": "code",
   "execution_count": 5,
   "id": "5a67f071",
   "metadata": {},
   "outputs": [],
   "source": [
    "#Creation des images paths en fonction du Systeme d'exploitation\n",
    "if os.name == 'posix':\n",
    "    !mkdir -p {IMAGES_PATH}\n",
    "    #creation de sous dossier pour chaque label\n",
    "    for label in labels:\n",
    "        path = os.path.join(IMAGES_PATH,label)\n",
    "        if not os.path.exists(path):\n",
    "            !mkdir {path}"
   ]
  },
  {
   "cell_type": "markdown",
   "id": "ac1d886f",
   "metadata": {},
   "source": [
    "## capture des images"
   ]
  },
  {
   "cell_type": "code",
   "execution_count": 6,
   "id": "b2266cfc",
   "metadata": {},
   "outputs": [
    {
     "name": "stderr",
     "output_type": "stream",
     "text": [
      "OpenCV: not authorized to capture video (status 0), requesting...\n",
      "OpenCV: camera failed to properly initialize!\n"
     ]
    },
    {
     "name": "stdout",
     "output_type": "stream",
     "text": [
      "collection images for thumbsup\n",
      "collection images for 0\n"
     ]
    },
    {
     "ename": "error",
     "evalue": "OpenCV(4.7.0) /Users/runner/work/opencv-python/opencv-python/opencv/modules/imgcodecs/src/loadsave.cpp:783: error: (-215:Assertion failed) !_img.empty() in function 'imwrite'\n",
     "output_type": "error",
     "traceback": [
      "\u001b[0;31m---------------------------------------------------------------------------\u001b[0m",
      "\u001b[0;31merror\u001b[0m                                     Traceback (most recent call last)",
      "Cell \u001b[0;32mIn[6], line 11\u001b[0m\n\u001b[1;32m      9\u001b[0m ret, frame \u001b[38;5;241m=\u001b[39m cap\u001b[38;5;241m.\u001b[39mread()\n\u001b[1;32m     10\u001b[0m imgname \u001b[38;5;241m=\u001b[39m os\u001b[38;5;241m.\u001b[39mpath\u001b[38;5;241m.\u001b[39mjoin(IMAGES_PATH, label, label \u001b[38;5;241m+\u001b[39m\u001b[38;5;124m'\u001b[39m\u001b[38;5;124m.\u001b[39m\u001b[38;5;124m'\u001b[39m\u001b[38;5;241m+\u001b[39m\u001b[38;5;124m'\u001b[39m\u001b[38;5;132;01m{}\u001b[39;00m\u001b[38;5;124m.jpg\u001b[39m\u001b[38;5;124m'\u001b[39m\u001b[38;5;241m.\u001b[39mformat(\u001b[38;5;28mstr\u001b[39m(uuid\u001b[38;5;241m.\u001b[39muuid1())))\n\u001b[0;32m---> 11\u001b[0m \u001b[43mcv2\u001b[49m\u001b[38;5;241;43m.\u001b[39;49m\u001b[43mimwrite\u001b[49m\u001b[43m(\u001b[49m\u001b[43mimgname\u001b[49m\u001b[43m,\u001b[49m\u001b[43m \u001b[49m\u001b[43mframe\u001b[49m\u001b[43m)\u001b[49m\n\u001b[1;32m     12\u001b[0m cv2\u001b[38;5;241m.\u001b[39mimshow(\u001b[38;5;124m'\u001b[39m\u001b[38;5;124mframe\u001b[39m\u001b[38;5;124m'\u001b[39m, frame)\n\u001b[1;32m     13\u001b[0m time\u001b[38;5;241m.\u001b[39msleep(\u001b[38;5;241m2\u001b[39m)\n",
      "\u001b[0;31merror\u001b[0m: OpenCV(4.7.0) /Users/runner/work/opencv-python/opencv-python/opencv/modules/imgcodecs/src/loadsave.cpp:783: error: (-215:Assertion failed) !_img.empty() in function 'imwrite'\n"
     ]
    }
   ],
   "source": [
    "##lauch_picture = input(\"On commence,0:No 1:yes\")\n",
    "##if lauch_picture == 1:\n",
    "#for label in labels : \n",
    "#    cap = cv2.VideoCapture(0)\n",
    "#    print('collection images for {}'.format(label))\n",
    "#    time.sleep(5)\n",
    "#    for imgnum in range(numbers_img):\n",
    "#        print('collection images for {}'.format(imgnum))\n",
    "#        ret, frame = cap.read()\n",
    "#        imgname = os.path.join(IMAGES_PATH, label, label +'.'+'{}.jpg'.format(str(uuid.uuid1())))\n",
    "#        cv2.imwrite(imgname, frame)\n",
    "#        cv2.imshow('frame', frame)\n",
    "#        time.sleep(2)\n",
    "#        \n",
    "#        if cv2.waitKey(1)  & 0xFF ==ord('q'):\n",
    "#            break \n",
    "#            \n",
    "#cap.release()\n",
    "#cv2.destroyAllWindows\n",
    "#    \n",
    "##elif lauch_picture== 0: \n",
    "#    pass"
   ]
  },
  {
   "cell_type": "code",
   "execution_count": null,
   "id": "7d0fd821-7f31-487e-9a93-a4308768253c",
   "metadata": {},
   "outputs": [],
   "source": [
    "!pip install --upgrade lxml pyqt5"
   ]
  },
  {
   "cell_type": "code",
   "execution_count": null,
   "id": "b7565f30-d801-45ad-98c5-9bed98f8ab20",
   "metadata": {},
   "outputs": [],
   "source": [
    "LABELLING_PATH = os.path.join('tensorflow', 'labelling')\n",
    "if not os.path.exists(LABELLING_PATH):\n",
    "    ! mkdir {LABELLING_PATH}\n",
    "    !git clone https://github.com/heartexlabs/labelImg.git {LABELLING_PATH}"
   ]
  },
  {
   "cell_type": "code",
   "execution_count": null,
   "id": "2aaf4faf-f492-4b69-909d-096e026dc761",
   "metadata": {},
   "outputs": [],
   "source": [
    "LABELLING_PATH"
   ]
  },
  {
   "cell_type": "code",
   "execution_count": null,
   "id": "045c58b6-3f20-4b0c-ad49-3fd5a080dcc3",
   "metadata": {},
   "outputs": [],
   "source": [
    "if os.name == 'posix':\n",
    "    !cd {LABELLING_PATH} && make qt5py3\n",
    "if os.name == 'nt':\n",
    "    !cd {LABELLING_PATH}  && pyrcc5 -o lib/ressources.py resources.qrc\n"
   ]
  },
  {
   "cell_type": "code",
   "execution_count": null,
   "id": "691b3a47-4ca2-46d1-b0cc-a7cffb11cb47",
   "metadata": {
    "tags": []
   },
   "outputs": [],
   "source": [
    "!cd {LABELLING_PATH} && python3 labelImg.py"
   ]
  },
  {
   "cell_type": "markdown",
   "id": "eae48791-4737-4c26-9408-a381d770a6f0",
   "metadata": {},
   "source": [
    "## Création du trainning testing set\n"
   ]
  },
  {
   "cell_type": "code",
   "execution_count": null,
   "id": "5970724b-cbfc-46b2-b83e-ef6168b28157",
   "metadata": {},
   "outputs": [],
   "source": [
    "TRAIN_PATH = os.path.join('Tensorflow', 'workspace', 'images', 'train')\n",
    "TEST_PATH = os.path.join('Tensorflow', 'workspace', 'images', 'test')\n",
    "ARCHIVE_PATH = os.path.join('Tensorflow', 'workspace', 'images', 'archive.tar.')\n",
    "\n"
   ]
  },
  {
   "cell_type": "code",
   "execution_count": null,
   "id": "6a233194-71b4-453d-b8b0-32765e991727",
   "metadata": {},
   "outputs": [],
   "source": [
    "CUSTOM_MODEL_NAME = 'my_ssd_mobnet'\n",
    "PRETRAINED_MODEL_NAME = \"SSD MobileNet V2 FPNLite 320x320\"\n",
    "PRETRAINED_MODEL_URL = \"SSD MobileNet V2 FPNLite 320x320\"\n",
    "TF_RECORD_SCRIPT_NAME = 'generate_tfrecord.py'\n",
    "LABEL_MAP_NAME = 'label_map.pbtxt'\n"
   ]
  },
  {
   "cell_type": "code",
   "execution_count": null,
   "id": "288c4168-139a-4219-b5de-f3c4a4b3a22e",
   "metadata": {},
   "outputs": [],
   "source": [
    " paths = {\n",
    "    'WORKSPACE_PATH': os.path.join('Tensorflow', 'workspace'),\n",
    "    'SCRIPTS_PATH': os.path.join('Tensorflow','scripts'),\n",
    "    'APIMODEL_PATH': os.path.join('Tensorflow','models'),\n",
    "    'ANNOTATION_PATH': os.path.join('Tensorflow', 'workspace','annotations'),\n",
    "    'IMAGE_PATH': os.path.join('Tensorflow', 'workspace','images'),\n",
    "    'MODEL_PATH': os.path.join('Tensorflow', 'workspace','models'),\n",
    "    'PRETRAINED_MODEL_PATH': os.path.join('Tensorflow', 'workspace','pre-trained-models'),\n",
    "    'CHECKPOINT_PATH': os.path.join('Tensorflow', 'workspace','models',CUSTOM_MODEL_NAME), \n",
    "    'OUTPUT_PATH': os.path.join('Tensorflow', 'workspace','models',CUSTOM_MODEL_NAME, 'export'), \n",
    "    'TFJS_PATH':os.path.join('Tensorflow', 'workspace','models',CUSTOM_MODEL_NAME, 'tfjsexport'), \n",
    "    'TFLITE_PATH':os.path.join('Tensorflow', 'workspace','models',CUSTOM_MODEL_NAME, 'tfliteexport'), \n",
    "    'PROTOC_PATH':os.path.join('Tensorflow','protoc')\n",
    " }"
   ]
  },
  {
   "cell_type": "code",
   "execution_count": null,
   "id": "095fe49a-f458-463a-90e6-79fa21492d04",
   "metadata": {},
   "outputs": [],
   "source": [
    "files = {\n",
    "    'PIPELINE_CONFIG':os.path.join('Tensorflow', 'workspace','models', CUSTOM_MODEL_NAME, 'pipeline.config'),\n",
    "    'TF_RECORD_SCRIPT': os.path.join(paths['SCRIPTS_PATH'], TF_RECORD_SCRIPT_NAME), \n",
    "    'LABELMAP': os.path.join(paths['ANNOTATION_PATH'], LABEL_MAP_NAME)\n",
    "}"
   ]
  },
  {
   "cell_type": "code",
   "execution_count": null,
   "id": "22d17957-7831-4651-a374-7fed50eafac1",
   "metadata": {},
   "outputs": [],
   "source": [
    "for path in paths.values():\n",
    "    if not os.path.exists(path):\n",
    "        if os.name == 'posix':\n",
    "            !mkdir -p {path}\n",
    "        if os.name == 'nt':\n",
    "            !mkdir {path}\n"
   ]
  },
  {
   "cell_type": "markdown",
   "id": "4082cf5e-3b34-4a6d-a4b9-4e7a0e467f79",
   "metadata": {},
   "source": [
    "## Download of the TF Pretrained Model  "
   ]
  },
  {
   "cell_type": "code",
   "execution_count": null,
   "id": "6c45b1af-bbf5-4b34-ac76-a51516dc4c7f",
   "metadata": {},
   "outputs": [],
   "source": [
    "if os.name=='nt':\n",
    "    !pip install wget\n",
    "    import wget"
   ]
  },
  {
   "cell_type": "code",
   "execution_count": null,
   "id": "ced69287-0cab-4280-8509-a3528bf78d68",
   "metadata": {},
   "outputs": [],
   "source": [
    "if not os.path.exists(os.path.join(paths['APIMODEL_PATH'], 'research', 'object_detection')):\n",
    "    !git clone https://github.com/tensorflow/models {paths['APIMODEL_PATH']}"
   ]
  },
  {
   "cell_type": "code",
   "execution_count": null,
   "id": "6f40ab95-fc7c-47f2-9c98-81420e500c10",
   "metadata": {
    "tags": []
   },
   "outputs": [],
   "source": [
    "# Install Tensorflow Object Detection \n",
    "if os.name=='posix':  \n",
    "    !  brew install protobuf-c\n",
    "    !cd Tensorflow/models/research && protoc object_detection/protos/*.proto --python_out=. && cp object_detection/packages/tf2/setup.py . && python -m pip install . \n",
    "    \n",
    "if os.name=='nt':\n",
    "    url=\"https://github.com/protocolbuffers/protobuf/releases/download/v3.15.6/protoc-3.15.6-win64.zip\"\n",
    "    wget.download(url)\n",
    "    !move protoc-3.15.6-win64.zip {paths['PROTOC_PATH']}\n",
    "    !cd {paths['PROTOC_PATH']} && tar -xf protoc-3.15.6-win64.zip\n",
    "    os.environ['PATH'] += os.pathsep + os.path.abspath(os.path.join(paths['PROTOC_PATH'], 'bin'))   \n",
    "    !cd Tensorflow/models/research && protoc object_detection/protos/*.proto --python_out=. && copy object_detection\\\\packages\\\\tf2\\\\setup.py setup.py && python setup.py build && python setup.py install\n",
    "    !cd Tensorflow/models/research/slim && pip install -e . "
   ]
  },
  {
   "cell_type": "code",
   "execution_count": null,
   "id": "eb1bf161-b479-436b-be19-f498eb1b0b2c",
   "metadata": {},
   "outputs": [],
   "source": [
    "! pip install tensorflow --upgrade\n"
   ]
  },
  {
   "cell_type": "code",
   "execution_count": null,
   "id": "8d58048b-7536-431c-a0e7-d2a1097d8d67",
   "metadata": {},
   "outputs": [],
   "source": [
    "import object_detection\n"
   ]
  },
  {
   "cell_type": "code",
   "execution_count": null,
   "id": "82a51884-980c-4428-a8f9-0bfc3ebbdb15",
   "metadata": {},
   "outputs": [],
   "source": [
    "!export PYTHONPATH=$PYTHONPATH:<PATH_TO_TF>/TensorFlow/models/research\n",
    "!export PYTHONPATH=$PYTHONPATH:<PATH_TO_TF>/TensorFlow/models/research/object_detection\n",
    "!export PYTHONPATH=$PYTHONPATH:<PATH_TO_TF>/TensorFlow/models/research/slim\n"
   ]
  },
  {
   "cell_type": "code",
   "execution_count": null,
   "id": "529e7438-6d0e-4694-898e-070b8dcac243",
   "metadata": {},
   "outputs": [],
   "source": []
  }
 ],
 "metadata": {
  "kernelspec": {
   "display_name": "env",
   "language": "python",
   "name": "env"
  },
  "language_info": {
   "codemirror_mode": {
    "name": "ipython",
    "version": 3
   },
   "file_extension": ".py",
   "mimetype": "text/x-python",
   "name": "python",
   "nbconvert_exporter": "python",
   "pygments_lexer": "ipython3",
   "version": "3.10.8"
  },
  "vp": {
   "vp_config_version": "1.0.0",
   "vp_menu_width": 273,
   "vp_note_display": false,
   "vp_note_width": 0,
   "vp_position": {
    "width": 278
   },
   "vp_section_display": false,
   "vp_signature": "VisualPython"
  }
 },
 "nbformat": 4,
 "nbformat_minor": 5
}
